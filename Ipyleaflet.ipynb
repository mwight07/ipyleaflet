{
 "cells": [
  {
   "cell_type": "code",
   "execution_count": null,
   "metadata": {},
   "outputs": [],
   "source": [
    "# List all installed packages\n",
    "!pip freeze\n"
   ]
  },
  {
   "cell_type": "code",
   "execution_count": null,
   "metadata": {
    "scrolled": true
   },
   "outputs": [],
   "source": [
    "# Install required libraries\n",
    "!pip install --user ipywidgets ipyleaflet jupyter-contrib-nbextensions\n"
   ]
  },
  {
   "cell_type": "code",
   "execution_count": null,
   "metadata": {},
   "outputs": [],
   "source": [
    "# Install notebook extension settings for ipyleaflet\n",
    "!jupyter nbextension install --py --symlink --sys-prefix ipyleaflet\n",
    "!jupyter nbextension enable --py --sys-prefix ipyleaflet\n"
   ]
  },
  {
   "cell_type": "code",
   "execution_count": null,
   "metadata": {},
   "outputs": [],
   "source": [
    "# Install notebook extension settings for ipyleaflet\n",
    "!jupyter nbextension enable ipyleaflet --py --sys-prefix\n"
   ]
  },
  {
   "cell_type": "markdown",
   "metadata": {},
   "source": [
    "## ipyleaflet\n",
    "ipyleaflet is an interactive widgets library that is based on ipywidgets. This means that everything in ipyleaflet (e.g. the Map, TileLayers, etc.) is interactive. You can dynamically update attributes from Python or from the Notebook interface."
   ]
  },
  {
   "cell_type": "code",
   "execution_count": null,
   "metadata": {},
   "outputs": [],
   "source": [
    "#--------------------------------------------------------------------------\n",
    "# Import Required Modules\n",
    "#--------------------------------------------------------------------------\n",
    "\n",
    "print(' Import Required Modules:    \\n - Executing')\n",
    "print(' - Importing modules...')\n",
    "\n",
    "# Import packages\n",
    "import json\n",
    "from IPython.display import display\n",
    "\n",
    "import ipywidgets\n",
    "from ipywidgets import *\n",
    "from ipywidgets import HTML\n",
    "\n",
    "import ipyleaflet\n",
    "from ipyleaflet import *\n",
    "from ipyleaflet import Map, basemaps, basemap_to_tiles, Marker, Popup, WMSLayer\n",
    "\n",
    "\n",
    "print(' - Process complete. Check for errors and continue. \\n')\n"
   ]
  },
  {
   "cell_type": "code",
   "execution_count": null,
   "metadata": {
    "scrolled": false
   },
   "outputs": [],
   "source": [
    "\"\"\"\n",
    "Note(s): Map display is currently set to Cartesian coordinate geometry using X/Y format.\n",
    "\n",
    "\"\"\"\n",
    "\n",
    "# 1. Set desired map centerpoint in X/Y coordinates\n",
    "# 2. Set desired WMS layer, Tileserver URL can also be mapped in ArMap/ArcGIS Pro.\n",
    "# 3. Replace layers value below from available sources.\n",
    "center = (55.204793, 360.121558)\n",
    "wms = WMSLayer(url=\"asdf\", layers=\"asdf\")\n",
    "m = Map(layers=(wms, ), center=center, zoom=3, close_popup_on_click=False)\n",
    "\n",
    "\n",
    "# 4. Set interactive messages boxes. Adjust X/Y location coordinates as desired.\n",
    "marker = Marker(location=(48.8566, 362.349014), draggable=True)\n",
    "m.add_layer(marker)\n",
    "\n",
    "message1 = HTML()\n",
    "message1.description = \"<b>Action</b>: \"\n",
    "message1.value = \"Try clicking on the marker!\"\n",
    "\n",
    "message2 = HTML()\n",
    "message2.description = \"<b>Location</b>: \"\n",
    "message2.value = \"Paris, France\"\n",
    "\n",
    "\n",
    "# 5. Set popup with a defined location on the map. Adjust X/Y location coordinates as desired.\n",
    "popup = Popup(location=(55.204793, 360.121558),\n",
    "              child=message1,\n",
    "              close_button=False,\n",
    "              auto_close=False,\n",
    "              close_on_escape_key=False)\n",
    "m.add_layer(popup)\n",
    "\n",
    "\n",
    "# 6. Associate marker popup to a message\n",
    "marker.popup = message2\n",
    "\n",
    "\n",
    "# 7. Define coordinates label\n",
    "coordinates = Label()\n",
    "display(m)\n",
    "display(coordinates)\n",
    "\n",
    "label = Label()\n",
    "display(label)\n",
    "\n",
    "\n",
    "# 8. Wire the mouse position with the coordinates tool\n",
    "def handle_interaction(**kwargs):\n",
    "    if kwargs.get('type') == 'mousemove':\n",
    "        label.value = str(kwargs.get('coordinates'))\n",
    "        \n",
    "m.on_interaction(handle_interaction)\n",
    "\n"
   ]
  },
  {
   "cell_type": "code",
   "execution_count": null,
   "metadata": {},
   "outputs": [],
   "source": []
  },
  {
   "cell_type": "code",
   "execution_count": null,
   "metadata": {},
   "outputs": [],
   "source": []
  }
 ],
 "metadata": {
  "kernelspec": {
   "display_name": "Python 3",
   "language": "python",
   "name": "python3"
  },
  "language_info": {
   "codemirror_mode": {
    "name": "ipython",
    "version": 3
   },
   "file_extension": ".py",
   "mimetype": "text/x-python",
   "name": "python",
   "nbconvert_exporter": "python",
   "pygments_lexer": "ipython3",
   "version": "3.6.7"
  }
 },
 "nbformat": 4,
 "nbformat_minor": 2
}
